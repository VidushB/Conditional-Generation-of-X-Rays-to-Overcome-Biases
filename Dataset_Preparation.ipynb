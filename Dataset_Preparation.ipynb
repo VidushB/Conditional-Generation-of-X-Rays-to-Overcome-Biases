{
  "nbformat": 4,
  "nbformat_minor": 0,
  "metadata": {
    "colab": {
      "name": "Dataset_Preparation",
      "provenance": [],
      "collapsed_sections": []
    },
    "kernelspec": {
      "name": "python3",
      "display_name": "Python 3"
    },
    "language_info": {
      "name": "python"
    }
  },
  "cells": [
    {
      "cell_type": "code",
      "execution_count": null,
      "metadata": {
        "id": "fBuub5clQlto",
        "colab": {
          "base_uri": "https://localhost:8080/"
        },
        "outputId": "11bb9ee6-78c9-4027-ecc3-cece66f8c82f"
      },
      "outputs": [
        {
          "output_type": "stream",
          "name": "stdout",
          "text": [
            "Drive already mounted at /content/drive; to attempt to forcibly remount, call drive.mount(\"/content/drive\", force_remount=True).\n"
          ]
        }
      ],
      "source": [
        "import os\n",
        "from google.colab import drive\n",
        "drive.mount('/content/drive')"
      ]
    },
    {
      "cell_type": "code",
      "source": [
        "os.chdir('/content/drive/My Drive/DL_MP2')"
      ],
      "metadata": {
        "id": "0XJguT2hRQ8V"
      },
      "execution_count": null,
      "outputs": []
    },
    {
      "cell_type": "code",
      "source": [
        "import numpy as np\n",
        "import pandas as pd\n",
        "import sys\n",
        "import matplotlib.pyplot as ps\n",
        "from PIL import Image\n",
        "import json\n",
        "import random\n",
        "from sklearn.model_selection import KFold\n",
        "from pathlib import Path\n",
        "import torch\n",
        "from torch.utils.data import Dataset\n",
        "from torchvision import transforms\n",
        "import pickle\n",
        "import cv2\n",
        "from fnmatch import fnmatch\n",
        "from torch.utils.data import Dataset, ConcatDataset"
      ],
      "metadata": {
        "id": "w3C7ePjZYSqt"
      },
      "execution_count": null,
      "outputs": []
    },
    {
      "cell_type": "markdown",
      "source": [
        "Preparing the CSV first"
      ],
      "metadata": {
        "id": "mQ53X9sGoLw1"
      }
    },
    {
      "cell_type": "code",
      "source": [
        "def CSV_Work(input_drive,output_drive,only_frontal):\n",
        "  df=pd.read_csv(input_drive)\n",
        "  df['subject_id']=df['Path'].apply(lambda x: int(Path(x).parent.parent.name[7:])).astype(str)\n",
        "  df=df[df.Sex.isin(['Male', 'Female'])]\n",
        "  def age_bins(x):\n",
        "    if 0<=x<40: return '18-40'\n",
        "    elif 40<=x<60: return '40-60'\n",
        "    elif 60<=x<80: return '60-80'\n",
        "    else: return '80-'\n",
        "  df['Age']=df['Age'].apply(age_bins)\n",
        "  copy=df['subject_id']\n",
        "  df=df.drop(columns=['subject_id']).replace([[None],\"NaN\",-1,\"[False]\",\"[True]\", \"[ True]\"],\n",
        "                                                   [0,0,0,0,1,1])\n",
        "  df['subject_id']=copy.astype(str)\n",
        "  df['Sex']=np.where(df['Sex']=='Female','F',df['Sex'])\n",
        "  df['Sex']=np.where(df['Sex']=='Male','M',df['Sex'])\n",
        "  # No need to make changes to match MIMIC\n",
        "  df['path']=df['Path']\n",
        "  #df['path']=df['Path'].astype(str).apply(lambda x: os.path.join('/CheXpert-v1.0-small/',x))\n",
        "  #print(df.head())\n",
        "  df['frontal']=(df['Frontal/Lateral']=='Frontal')\n",
        "  if only_frontal:\n",
        "    df=df[df['frontal']]\n",
        "  df['study_id']=df['path'].apply(lambda x: x[x.index('patient'):x.rindex('/')])\n",
        "  df=df[['subject_id','path','Sex',\"Age\",'frontal','study_id','No Finding','Atelectasis','Cardiomegaly','Pleural Effusion','Pneumonia','Pneumothorax','Consolidation','Edema']]\n",
        "  df.reset_index(drop=True).to_csv(output_drive,index=False)\n",
        "  return df\n",
        "  #return df[['subject_id','path','Sex',\"Age\",'frontal','study_id','No Finding','Atelectasis','Cardiomegaly','Pleural Effusion','Pneumonia','Pneumothorax','Consolidation','Edema']]"
      ],
      "metadata": {
        "id": "nkkBP1epoP7q"
      },
      "execution_count": null,
      "outputs": []
    },
    {
      "cell_type": "code",
      "source": [
        "train_pd=CSV_Work('CheXpert-v1.0-small/train.csv','CheXpert-v1.0-small/processed_train.csv',False)\n",
        "val_pd=CSV_Work('CheXpert-v1.0-small/valid.csv','CheXpert-v1.0-small/processed_valid.csv',False)"
      ],
      "metadata": {
        "id": "CDxCFlnfrBAI"
      },
      "execution_count": null,
      "outputs": []
    },
    {
      "cell_type": "code",
      "source": [
        "valid_pd=pd.read_csv('CheXpert-v1.0-small/processed_valid.csv')\n",
        "train_pd=pd.read_csv('CheXpert-v1.0-small/processed_valid.csv')"
      ],
      "metadata": {
        "id": "GSm5HzTcsgiA"
      },
      "execution_count": null,
      "outputs": []
    },
    {
      "cell_type": "code",
      "source": [
        "transform=transforms.Compose([transforms.RandomHorizontalFlip(),\n",
        "                               transforms.RandomRotation(10),\n",
        "                               transforms.RandomResizedCrop(size=224,scale=(0.75,1.0)),\n",
        "                               transforms.ToTensor(),\n",
        "                               transforms.Normalize([0.5],[0.2])])"
      ],
      "metadata": {
        "id": "-uDVaYPG6RC4"
      },
      "execution_count": null,
      "outputs": []
    },
    {
      "cell_type": "code",
      "source": [
        "def image_Work(root,transform):\n",
        "  data={}\n",
        "  pattern=\"*.jpg\"\n",
        "  for path,subdirs,files in os.walk(root):\n",
        "    for name in files:\n",
        "      if fnmatch(name,pattern):\n",
        "        location=os.path.join(path,name)\n",
        "        image=Image.open(location)\n",
        "        image=transform(image)\n",
        "        data[location]=image\n",
        "  return data\n",
        "\n"
      ],
      "metadata": {
        "id": "7wOCIXjaCFpQ"
      },
      "execution_count": null,
      "outputs": []
    },
    {
      "cell_type": "code",
      "source": [
        "train_set=image_Work('CheXpert-v1.0-small/train',transform)\n",
        "val_set=image_Work('CheXpert-v1.0-small/valid',transform)"
      ],
      "metadata": {
        "id": "r3pj4joRDo-P"
      },
      "execution_count": null,
      "outputs": []
    },
    {
      "cell_type": "code",
      "source": [
        "t=open(\"train_set.pkl\",\"wb\")\n",
        "pickle.dump(train_set,t)\n",
        "t.close()\n",
        "v=open(\"val_set.pkl\",\"wb\")\n",
        "pickle.dump(val_set,v)\n",
        "v.close()"
      ],
      "metadata": {
        "id": "jRLiO5idIQpD"
      },
      "execution_count": null,
      "outputs": []
    }
  ]
}